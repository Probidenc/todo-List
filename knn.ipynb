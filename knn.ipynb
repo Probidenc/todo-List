{
  "nbformat": 4,
  "nbformat_minor": 0,
  "metadata": {
    "colab": {
      "provenance": [],
      "include_colab_link": true
    },
    "kernelspec": {
      "name": "python3",
      "display_name": "Python 3"
    },
    "language_info": {
      "name": "python"
    }
  },
  "cells": [
    {
      "cell_type": "markdown",
      "metadata": {
        "id": "view-in-github",
        "colab_type": "text"
      },
      "source": [
        "<a href=\"https://colab.research.google.com/github/Probidenc/todo-List/blob/master/knn.ipynb\" target=\"_parent\"><img src=\"https://colab.research.google.com/assets/colab-badge.svg\" alt=\"Open In Colab\"/></a>"
      ]
    },
    {
      "cell_type": "code",
      "execution_count": null,
      "metadata": {
        "id": "P1AG_JnyRqID",
        "colab": {
          "base_uri": "https://localhost:8080/"
        },
        "outputId": "9135efa1-0d5d-470d-e06c-fa97b64806ad"
      },
      "outputs": [
        {
          "output_type": "execute_result",
          "data": {
            "text/plain": [
              "array([[5.1, 3.5, 1.4, 0.2],\n",
              "       [4.9, 3. , 1.4, 0.2],\n",
              "       [4.7, 3.2, 1.3, 0.2],\n",
              "       [4.6, 3.1, 1.5, 0.2],\n",
              "       [5. , 3.6, 1.4, 0.2],\n",
              "       [5.4, 3.9, 1.7, 0.4],\n",
              "       [4.6, 3.4, 1.4, 0.3],\n",
              "       [5. , 3.4, 1.5, 0.2],\n",
              "       [4.4, 2.9, 1.4, 0.2],\n",
              "       [4.9, 3.1, 1.5, 0.1],\n",
              "       [5.4, 3.7, 1.5, 0.2],\n",
              "       [4.8, 3.4, 1.6, 0.2],\n",
              "       [4.8, 3. , 1.4, 0.1],\n",
              "       [4.3, 3. , 1.1, 0.1],\n",
              "       [5.8, 4. , 1.2, 0.2],\n",
              "       [5.7, 4.4, 1.5, 0.4],\n",
              "       [5.4, 3.9, 1.3, 0.4],\n",
              "       [5.1, 3.5, 1.4, 0.3],\n",
              "       [5.7, 3.8, 1.7, 0.3],\n",
              "       [5.1, 3.8, 1.5, 0.3],\n",
              "       [5.4, 3.4, 1.7, 0.2],\n",
              "       [5.1, 3.7, 1.5, 0.4],\n",
              "       [4.6, 3.6, 1. , 0.2],\n",
              "       [5.1, 3.3, 1.7, 0.5],\n",
              "       [4.8, 3.4, 1.9, 0.2],\n",
              "       [5. , 3. , 1.6, 0.2],\n",
              "       [5. , 3.4, 1.6, 0.4],\n",
              "       [5.2, 3.5, 1.5, 0.2],\n",
              "       [5.2, 3.4, 1.4, 0.2],\n",
              "       [4.7, 3.2, 1.6, 0.2],\n",
              "       [4.8, 3.1, 1.6, 0.2],\n",
              "       [5.4, 3.4, 1.5, 0.4],\n",
              "       [5.2, 4.1, 1.5, 0.1],\n",
              "       [5.5, 4.2, 1.4, 0.2],\n",
              "       [4.9, 3.1, 1.5, 0.2],\n",
              "       [5. , 3.2, 1.2, 0.2],\n",
              "       [5.5, 3.5, 1.3, 0.2],\n",
              "       [4.9, 3.6, 1.4, 0.1],\n",
              "       [4.4, 3. , 1.3, 0.2],\n",
              "       [5.1, 3.4, 1.5, 0.2],\n",
              "       [5. , 3.5, 1.3, 0.3],\n",
              "       [4.5, 2.3, 1.3, 0.3],\n",
              "       [4.4, 3.2, 1.3, 0.2],\n",
              "       [5. , 3.5, 1.6, 0.6],\n",
              "       [5.1, 3.8, 1.9, 0.4],\n",
              "       [4.8, 3. , 1.4, 0.3],\n",
              "       [5.1, 3.8, 1.6, 0.2],\n",
              "       [4.6, 3.2, 1.4, 0.2],\n",
              "       [5.3, 3.7, 1.5, 0.2],\n",
              "       [5. , 3.3, 1.4, 0.2],\n",
              "       [7. , 3.2, 4.7, 1.4],\n",
              "       [6.4, 3.2, 4.5, 1.5],\n",
              "       [6.9, 3.1, 4.9, 1.5],\n",
              "       [5.5, 2.3, 4. , 1.3],\n",
              "       [6.5, 2.8, 4.6, 1.5],\n",
              "       [5.7, 2.8, 4.5, 1.3],\n",
              "       [6.3, 3.3, 4.7, 1.6],\n",
              "       [4.9, 2.4, 3.3, 1. ],\n",
              "       [6.6, 2.9, 4.6, 1.3],\n",
              "       [5.2, 2.7, 3.9, 1.4],\n",
              "       [5. , 2. , 3.5, 1. ],\n",
              "       [5.9, 3. , 4.2, 1.5],\n",
              "       [6. , 2.2, 4. , 1. ],\n",
              "       [6.1, 2.9, 4.7, 1.4],\n",
              "       [5.6, 2.9, 3.6, 1.3],\n",
              "       [6.7, 3.1, 4.4, 1.4],\n",
              "       [5.6, 3. , 4.5, 1.5],\n",
              "       [5.8, 2.7, 4.1, 1. ],\n",
              "       [6.2, 2.2, 4.5, 1.5],\n",
              "       [5.6, 2.5, 3.9, 1.1],\n",
              "       [5.9, 3.2, 4.8, 1.8],\n",
              "       [6.1, 2.8, 4. , 1.3],\n",
              "       [6.3, 2.5, 4.9, 1.5],\n",
              "       [6.1, 2.8, 4.7, 1.2],\n",
              "       [6.4, 2.9, 4.3, 1.3],\n",
              "       [6.6, 3. , 4.4, 1.4],\n",
              "       [6.8, 2.8, 4.8, 1.4],\n",
              "       [6.7, 3. , 5. , 1.7],\n",
              "       [6. , 2.9, 4.5, 1.5],\n",
              "       [5.7, 2.6, 3.5, 1. ],\n",
              "       [5.5, 2.4, 3.8, 1.1],\n",
              "       [5.5, 2.4, 3.7, 1. ],\n",
              "       [5.8, 2.7, 3.9, 1.2],\n",
              "       [6. , 2.7, 5.1, 1.6],\n",
              "       [5.4, 3. , 4.5, 1.5],\n",
              "       [6. , 3.4, 4.5, 1.6],\n",
              "       [6.7, 3.1, 4.7, 1.5],\n",
              "       [6.3, 2.3, 4.4, 1.3],\n",
              "       [5.6, 3. , 4.1, 1.3],\n",
              "       [5.5, 2.5, 4. , 1.3],\n",
              "       [5.5, 2.6, 4.4, 1.2],\n",
              "       [6.1, 3. , 4.6, 1.4],\n",
              "       [5.8, 2.6, 4. , 1.2],\n",
              "       [5. , 2.3, 3.3, 1. ],\n",
              "       [5.6, 2.7, 4.2, 1.3],\n",
              "       [5.7, 3. , 4.2, 1.2],\n",
              "       [5.7, 2.9, 4.2, 1.3],\n",
              "       [6.2, 2.9, 4.3, 1.3],\n",
              "       [5.1, 2.5, 3. , 1.1],\n",
              "       [5.7, 2.8, 4.1, 1.3],\n",
              "       [6.3, 3.3, 6. , 2.5],\n",
              "       [5.8, 2.7, 5.1, 1.9],\n",
              "       [7.1, 3. , 5.9, 2.1],\n",
              "       [6.3, 2.9, 5.6, 1.8],\n",
              "       [6.5, 3. , 5.8, 2.2],\n",
              "       [7.6, 3. , 6.6, 2.1],\n",
              "       [4.9, 2.5, 4.5, 1.7],\n",
              "       [7.3, 2.9, 6.3, 1.8],\n",
              "       [6.7, 2.5, 5.8, 1.8],\n",
              "       [7.2, 3.6, 6.1, 2.5],\n",
              "       [6.5, 3.2, 5.1, 2. ],\n",
              "       [6.4, 2.7, 5.3, 1.9],\n",
              "       [6.8, 3. , 5.5, 2.1],\n",
              "       [5.7, 2.5, 5. , 2. ],\n",
              "       [5.8, 2.8, 5.1, 2.4],\n",
              "       [6.4, 3.2, 5.3, 2.3],\n",
              "       [6.5, 3. , 5.5, 1.8],\n",
              "       [7.7, 3.8, 6.7, 2.2],\n",
              "       [7.7, 2.6, 6.9, 2.3],\n",
              "       [6. , 2.2, 5. , 1.5],\n",
              "       [6.9, 3.2, 5.7, 2.3],\n",
              "       [5.6, 2.8, 4.9, 2. ],\n",
              "       [7.7, 2.8, 6.7, 2. ],\n",
              "       [6.3, 2.7, 4.9, 1.8],\n",
              "       [6.7, 3.3, 5.7, 2.1],\n",
              "       [7.2, 3.2, 6. , 1.8],\n",
              "       [6.2, 2.8, 4.8, 1.8],\n",
              "       [6.1, 3. , 4.9, 1.8],\n",
              "       [6.4, 2.8, 5.6, 2.1],\n",
              "       [7.2, 3. , 5.8, 1.6],\n",
              "       [7.4, 2.8, 6.1, 1.9],\n",
              "       [7.9, 3.8, 6.4, 2. ],\n",
              "       [6.4, 2.8, 5.6, 2.2],\n",
              "       [6.3, 2.8, 5.1, 1.5],\n",
              "       [6.1, 2.6, 5.6, 1.4],\n",
              "       [7.7, 3. , 6.1, 2.3],\n",
              "       [6.3, 3.4, 5.6, 2.4],\n",
              "       [6.4, 3.1, 5.5, 1.8],\n",
              "       [6. , 3. , 4.8, 1.8],\n",
              "       [6.9, 3.1, 5.4, 2.1],\n",
              "       [6.7, 3.1, 5.6, 2.4],\n",
              "       [6.9, 3.1, 5.1, 2.3],\n",
              "       [5.8, 2.7, 5.1, 1.9],\n",
              "       [6.8, 3.2, 5.9, 2.3],\n",
              "       [6.7, 3.3, 5.7, 2.5],\n",
              "       [6.7, 3. , 5.2, 2.3],\n",
              "       [6.3, 2.5, 5. , 1.9],\n",
              "       [6.5, 3. , 5.2, 2. ],\n",
              "       [6.2, 3.4, 5.4, 2.3],\n",
              "       [5.9, 3. , 5.1, 1.8]])"
            ]
          },
          "metadata": {},
          "execution_count": 1
        }
      ],
      "source": [
        "from sklearn import datasets\n",
        "import matplotlib.pyplot as plt\n",
        "iris = datasets.load_iris()\n",
        "X = iris.data\n",
        "\n",
        "y = iris.target\n",
        "X"
      ]
    },
    {
      "cell_type": "code",
      "source": [
        "from sklearn.model_selection import train_test_split\n",
        "X_tn, X_te, y_tn, y_te = train_test_split(X,y,random_state=0, stratify=y)\n",
        "\n",
        "fig11 = plt.scatter(X_tn[:, 0], X_tn[:, 1], c=y_tn, cmap=plt.cm.Set1, edgecolor=\"k\")\n",
        "\n"
      ],
      "metadata": {
        "colab": {
          "base_uri": "https://localhost:8080/",
          "height": 268
        },
        "id": "6Qk_hd4JR8RX",
        "outputId": "f44ef08a-9278-4da8-c456-37ede1ddac33"
      },
      "execution_count": null,
      "outputs": [
        {
          "output_type": "display_data",
          "data": {
            "text/plain": [
              "<Figure size 432x288 with 1 Axes>"
            ],
            "image/png": "[encoded data removed]"
          },
          "metadata": {
            "needs_background": "light"
          }
        }
      ]
    },
    {
      "cell_type": "code",
      "source": [
        "fig12 = plt.scatter(X_te[:, 0], X_te[:, 1], c=y_te, cmap=plt.cm.Set1, edgecolor=\"k\")\n",
        "X_te\n"
      ],
      "metadata": {
        "colab": {
          "base_uri": "https://localhost:8080/",
          "height": 975
        },
        "id": "E4Mw5t5mcbV-",
        "outputId": "78cadbed-de6d-4529-d52c-9f1a05238396"
      },
      "execution_count": null,
      "outputs": [
        {
          "output_type": "execute_result",
          "data": {
            "text/plain": [
              "array([[5.1, 3.4, 1.5, 0.2],\n",
              "       [4.8, 3. , 1.4, 0.1],\n",
              "       [5.3, 3.7, 1.5, 0.2],\n",
              "       [5.1, 3.3, 1.7, 0.5],\n",
              "       [5.5, 2.4, 3.7, 1. ],\n",
              "       [5.7, 2.8, 4.5, 1.3],\n",
              "       [5.7, 2.8, 4.1, 1.3],\n",
              "       [4.9, 3.1, 1.5, 0.1],\n",
              "       [6. , 3.4, 4.5, 1.6],\n",
              "       [7.2, 3. , 5.8, 1.6],\n",
              "       [6.3, 3.3, 6. , 2.5],\n",
              "       [5.6, 2.8, 4.9, 2. ],\n",
              "       [5.8, 2.7, 4.1, 1. ],\n",
              "       [6.3, 2.9, 5.6, 1.8],\n",
              "       [5.5, 2.5, 4. , 1.3],\n",
              "       [5.1, 3.7, 1.5, 0.4],\n",
              "       [4.6, 3.1, 1.5, 0.2],\n",
              "       [6.5, 3. , 5.2, 2. ],\n",
              "       [5.1, 3.8, 1.5, 0.3],\n",
              "       [6.4, 3.2, 4.5, 1.5],\n",
              "       [5.9, 3. , 5.1, 1.8],\n",
              "       [5.6, 3. , 4.1, 1.3],\n",
              "       [6.7, 3.1, 4.7, 1.5],\n",
              "       [5.1, 3.5, 1.4, 0.2],\n",
              "       [6.1, 2.6, 5.6, 1.4],\n",
              "       [5.5, 3.5, 1.3, 0.2],\n",
              "       [4.8, 3.4, 1.9, 0.2],\n",
              "       [5.5, 2.6, 4.4, 1.2],\n",
              "       [5.8, 2.7, 5.1, 1.9],\n",
              "       [6.7, 3.1, 4.4, 1.4],\n",
              "       [5.1, 3.8, 1.6, 0.2],\n",
              "       [6.5, 2.8, 4.6, 1.5],\n",
              "       [6.9, 3.1, 5.4, 2.1],\n",
              "       [5.7, 2.5, 5. , 2. ],\n",
              "       [4.6, 3.4, 1.4, 0.3],\n",
              "       [7. , 3.2, 4.7, 1.4],\n",
              "       [6.3, 3.4, 5.6, 2.4],\n",
              "       [7.2, 3.6, 6.1, 2.5]])"
            ]
          },
          "metadata": {},
          "execution_count": 3
        },
        {
          "output_type": "display_data",
          "data": {
            "text/plain": [
              "<Figure size 432x288 with 1 Axes>"
            ],
            "image/png": "[encoded data removed]"
          },
          "metadata": {
            "needs_background": "light"
          }
        }
      ]
    },
    {
      "cell_type": "code",
      "source": [],
      "metadata": {
        "id": "QueMBp0TciM0"
      },
      "execution_count": null,
      "outputs": []
    },
    {
      "cell_type": "code",
      "source": [
        "from sklearn.preprocessing import StandardScaler\n",
        "std_scaler = StandardScaler()\n",
        "std_scaler.fit(X_tn)\n",
        "X_tn_std = std_scaler.transform(X_tn)\n",
        "X_te_std = std_scaler.transform(X_te)\n"
      ],
      "metadata": {
        "id": "LuLGWhwuZRJb"
      },
      "execution_count": null,
      "outputs": []
    },
    {
      "cell_type": "code",
      "source": [
        "fig11 = plt.scatter(X_tn_std[:, 0], X_tn_std[:, 1], c=y_tn, cmap=plt.cm.Set1, edgecolor=\"k\")\n",
        "X_te\n"
      ],
      "metadata": {
        "colab": {
          "base_uri": "https://localhost:8080/",
          "height": 975
        },
        "id": "gzQSAqKTZ7G3",
        "outputId": "1b78217b-7d84-4d31-a7fe-6d31167f871d"
      },
      "execution_count": null,
      "outputs": [
        {
          "output_type": "execute_result",
          "data": {
            "text/plain": [
              "array([[5.1, 3.4, 1.5, 0.2],\n",
              "       [4.8, 3. , 1.4, 0.1],\n",
              "       [5.3, 3.7, 1.5, 0.2],\n",
              "       [5.1, 3.3, 1.7, 0.5],\n",
              "       [5.5, 2.4, 3.7, 1. ],\n",
              "       [5.7, 2.8, 4.5, 1.3],\n",
              "       [5.7, 2.8, 4.1, 1.3],\n",
              "       [4.9, 3.1, 1.5, 0.1],\n",
              "       [6. , 3.4, 4.5, 1.6],\n",
              "       [7.2, 3. , 5.8, 1.6],\n",
              "       [6.3, 3.3, 6. , 2.5],\n",
              "       [5.6, 2.8, 4.9, 2. ],\n",
              "       [5.8, 2.7, 4.1, 1. ],\n",
              "       [6.3, 2.9, 5.6, 1.8],\n",
              "       [5.5, 2.5, 4. , 1.3],\n",
              "       [5.1, 3.7, 1.5, 0.4],\n",
              "       [4.6, 3.1, 1.5, 0.2],\n",
              "       [6.5, 3. , 5.2, 2. ],\n",
              "       [5.1, 3.8, 1.5, 0.3],\n",
              "       [6.4, 3.2, 4.5, 1.5],\n",
              "       [5.9, 3. , 5.1, 1.8],\n",
              "       [5.6, 3. , 4.1, 1.3],\n",
              "       [6.7, 3.1, 4.7, 1.5],\n",
              "       [5.1, 3.5, 1.4, 0.2],\n",
              "       [6.1, 2.6, 5.6, 1.4],\n",
              "       [5.5, 3.5, 1.3, 0.2],\n",
              "       [4.8, 3.4, 1.9, 0.2],\n",
              "       [5.5, 2.6, 4.4, 1.2],\n",
              "       [5.8, 2.7, 5.1, 1.9],\n",
              "       [6.7, 3.1, 4.4, 1.4],\n",
              "       [5.1, 3.8, 1.6, 0.2],\n",
              "       [6.5, 2.8, 4.6, 1.5],\n",
              "       [6.9, 3.1, 5.4, 2.1],\n",
              "       [5.7, 2.5, 5. , 2. ],\n",
              "       [4.6, 3.4, 1.4, 0.3],\n",
              "       [7. , 3.2, 4.7, 1.4],\n",
              "       [6.3, 3.4, 5.6, 2.4],\n",
              "       [7.2, 3.6, 6.1, 2.5]])"
            ]
          },
          "metadata": {},
          "execution_count": 5
        },
        {
          "output_type": "display_data",
          "data": {
            "text/plain": [
              "<Figure size 432x288 with 1 Axes>"
            ],
            "image/png": "[encoded data removed]"
          },
          "metadata": {
            "needs_background": "light"
          }
        }
      ]
    },
    {
      "cell_type": "code",
      "source": [
        "fig12 = plt.scatter(X_te_std[:, 0], X_te_std[:, 1], c=y_te, cmap=plt.cm.Set1, edgecolor=\"k\")\n",
        "X_te"
      ],
      "metadata": {
        "colab": {
          "base_uri": "https://localhost:8080/",
          "height": 975
        },
        "id": "BSt4TBUldSRI",
        "outputId": "2db67a42-b821-4411-ac5e-c3920aa7ef1e"
      },
      "execution_count": null,
      "outputs": [
        {
          "output_type": "execute_result",
          "data": {
            "text/plain": [
              "array([[5.1, 3.4, 1.5, 0.2],\n",
              "       [4.8, 3. , 1.4, 0.1],\n",
              "       [5.3, 3.7, 1.5, 0.2],\n",
              "       [5.1, 3.3, 1.7, 0.5],\n",
              "       [5.5, 2.4, 3.7, 1. ],\n",
              "       [5.7, 2.8, 4.5, 1.3],\n",
              "       [5.7, 2.8, 4.1, 1.3],\n",
              "       [4.9, 3.1, 1.5, 0.1],\n",
              "       [6. , 3.4, 4.5, 1.6],\n",
              "       [7.2, 3. , 5.8, 1.6],\n",
              "       [6.3, 3.3, 6. , 2.5],\n",
              "       [5.6, 2.8, 4.9, 2. ],\n",
              "       [5.8, 2.7, 4.1, 1. ],\n",
              "       [6.3, 2.9, 5.6, 1.8],\n",
              "       [5.5, 2.5, 4. , 1.3],\n",
              "       [5.1, 3.7, 1.5, 0.4],\n",
              "       [4.6, 3.1, 1.5, 0.2],\n",
              "       [6.5, 3. , 5.2, 2. ],\n",
              "       [5.1, 3.8, 1.5, 0.3],\n",
              "       [6.4, 3.2, 4.5, 1.5],\n",
              "       [5.9, 3. , 5.1, 1.8],\n",
              "       [5.6, 3. , 4.1, 1.3],\n",
              "       [6.7, 3.1, 4.7, 1.5],\n",
              "       [5.1, 3.5, 1.4, 0.2],\n",
              "       [6.1, 2.6, 5.6, 1.4],\n",
              "       [5.5, 3.5, 1.3, 0.2],\n",
              "       [4.8, 3.4, 1.9, 0.2],\n",
              "       [5.5, 2.6, 4.4, 1.2],\n",
              "       [5.8, 2.7, 5.1, 1.9],\n",
              "       [6.7, 3.1, 4.4, 1.4],\n",
              "       [5.1, 3.8, 1.6, 0.2],\n",
              "       [6.5, 2.8, 4.6, 1.5],\n",
              "       [6.9, 3.1, 5.4, 2.1],\n",
              "       [5.7, 2.5, 5. , 2. ],\n",
              "       [4.6, 3.4, 1.4, 0.3],\n",
              "       [7. , 3.2, 4.7, 1.4],\n",
              "       [6.3, 3.4, 5.6, 2.4],\n",
              "       [7.2, 3.6, 6.1, 2.5]])"
            ]
          },
          "metadata": {},
          "execution_count": 6
        },
        {
          "output_type": "display_data",
          "data": {
            "text/plain": [
              "<Figure size 432x288 with 1 Axes>"
            ],
            "image/png": "[encoded data removed]"
          },
          "metadata": {
            "needs_background": "light"
          }
        }
      ]
    },
    {
      "cell_type": "code",
      "source": [
        "from sklearn.neighbors import KNeighborsClassifier\n",
        "from sklearn.metrics import accuracy_score\n",
        "\n",
        "k=2\n",
        "clf_knn=KNeighborsClassifier(n_neighbors=k)\n",
        "clf_knn.fit(X_tn_std, y_tn)\n",
        "\n",
        "knn_pred = clf_knn.predict(X_te_std)\n",
        "accuracy = accuracy_score(y_te, knn_pred)\n",
        "print(k, accuracy)"
      ],
      "metadata": {
        "colab": {
          "base_uri": "https://localhost:8080/"
        },
        "id": "s4RB7xHysz1u",
        "outputId": "265b69f6-c01b-4926-9314-9addf273788a"
      },
      "execution_count": null,
      "outputs": [
        {
          "output_type": "stream",
          "name": "stdout",
          "text": [
            "2 0.9473684210526315\n"
          ]
        }
      ]
    },
    {
      "cell_type": "code",
      "source": [
        "fig3 = plt.scatter(X_te_std[:, 0], X_te_std[:, 1], c=knn_pred, cmap=plt.cm.Set1, edgecolor=\"k\")\n",
        "X_te"
      ],
      "metadata": {
        "colab": {
          "base_uri": "https://localhost:8080/",
          "height": 975
        },
        "id": "zjCldkZId-sm",
        "outputId": "8454f8d0-d008-40be-a72e-1da8506031db"
      },
      "execution_count": null,
      "outputs": [
        {
          "output_type": "execute_result",
          "data": {
            "text/plain": [
              "array([[5.1, 3.4, 1.5, 0.2],\n",
              "       [4.8, 3. , 1.4, 0.1],\n",
              "       [5.3, 3.7, 1.5, 0.2],\n",
              "       [5.1, 3.3, 1.7, 0.5],\n",
              "       [5.5, 2.4, 3.7, 1. ],\n",
              "       [5.7, 2.8, 4.5, 1.3],\n",
              "       [5.7, 2.8, 4.1, 1.3],\n",
              "       [4.9, 3.1, 1.5, 0.1],\n",
              "       [6. , 3.4, 4.5, 1.6],\n",
              "       [7.2, 3. , 5.8, 1.6],\n",
              "       [6.3, 3.3, 6. , 2.5],\n",
              "       [5.6, 2.8, 4.9, 2. ],\n",
              "       [5.8, 2.7, 4.1, 1. ],\n",
              "       [6.3, 2.9, 5.6, 1.8],\n",
              "       [5.5, 2.5, 4. , 1.3],\n",
              "       [5.1, 3.7, 1.5, 0.4],\n",
              "       [4.6, 3.1, 1.5, 0.2],\n",
              "       [6.5, 3. , 5.2, 2. ],\n",
              "       [5.1, 3.8, 1.5, 0.3],\n",
              "       [6.4, 3.2, 4.5, 1.5],\n",
              "       [5.9, 3. , 5.1, 1.8],\n",
              "       [5.6, 3. , 4.1, 1.3],\n",
              "       [6.7, 3.1, 4.7, 1.5],\n",
              "       [5.1, 3.5, 1.4, 0.2],\n",
              "       [6.1, 2.6, 5.6, 1.4],\n",
              "       [5.5, 3.5, 1.3, 0.2],\n",
              "       [4.8, 3.4, 1.9, 0.2],\n",
              "       [5.5, 2.6, 4.4, 1.2],\n",
              "       [5.8, 2.7, 5.1, 1.9],\n",
              "       [6.7, 3.1, 4.4, 1.4],\n",
              "       [5.1, 3.8, 1.6, 0.2],\n",
              "       [6.5, 2.8, 4.6, 1.5],\n",
              "       [6.9, 3.1, 5.4, 2.1],\n",
              "       [5.7, 2.5, 5. , 2. ],\n",
              "       [4.6, 3.4, 1.4, 0.3],\n",
              "       [7. , 3.2, 4.7, 1.4],\n",
              "       [6.3, 3.4, 5.6, 2.4],\n",
              "       [7.2, 3.6, 6.1, 2.5]])"
            ]
          },
          "metadata": {},
          "execution_count": 8
        },
        {
          "output_type": "display_data",
          "data": {
            "text/plain": [
              "<Figure size 432x288 with 1 Axes>"
            ],
            "image/png": "[encoded data removed]"
          },
          "metadata": {
            "needs_background": "light"
          }
        }
      ]
    },
    {
      "cell_type": "code",
      "source": [
        "from sklearn.metrics import confusion_matrix\n",
        "conf_matrix = confusion_matrix(y_te, knn_pred)\n",
        "print(conf_matrix)"
      ],
      "metadata": {
        "colab": {
          "base_uri": "https://localhost:8080/"
        },
        "id": "i_jHDMLzjsnq",
        "outputId": "b65ea39c-75b1-4b82-bb9e-9e8be8908feb"
      },
      "execution_count": null,
      "outputs": [
        {
          "output_type": "stream",
          "name": "stdout",
          "text": [
            "[[13  0  0]\n",
            " [ 0 13  0]\n",
            " [ 0  2 10]]\n"
          ]
        }
      ]
    },
    {
      "cell_type": "code",
      "source": [
        "from sklearn.metrics import classification_report\n",
        "class_report = classification_report(y_te, knn_pred)\n",
        "print(class_report)"
      ],
      "metadata": {
        "colab": {
          "base_uri": "https://localhost:8080/"
        },
        "id": "jvGbs-i0tqCe",
        "outputId": "9edcbf18-677a-4b52-f54a-b39d08b2939c"
      },
      "execution_count": null,
      "outputs": [
        {
          "output_type": "stream",
          "name": "stdout",
          "text": [
            "              precision    recall  f1-score   support\n",
            "\n",
            "           0       1.00      1.00      1.00        13\n",
            "           1       0.87      1.00      0.93        13\n",
            "           2       1.00      0.83      0.91        12\n",
            "\n",
            "    accuracy                           0.95        38\n",
            "   macro avg       0.96      0.94      0.95        38\n",
            "weighted avg       0.95      0.95      0.95        38\n",
            "\n"
          ]
        }
      ]
    }
  ]
}