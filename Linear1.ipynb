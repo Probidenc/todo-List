{
  "nbformat": 4,
  "nbformat_minor": 0,
  "metadata": {
    "colab": {
      "provenance": [],
      "include_colab_link": true
    },
    "kernelspec": {
      "name": "python3",
      "display_name": "Python 3"
    },
    "language_info": {
      "name": "python"
    }
  },
  "cells": [
    {
      "cell_type": "markdown",
      "metadata": {
        "id": "view-in-github",
        "colab_type": "text"
      },
      "source": [
        "<a href=\"https://colab.research.google.com/github/Probidenc/todo-List/blob/master/Linear1.ipynb\" target=\"_parent\"><img src=\"https://colab.research.google.com/assets/colab-badge.svg\" alt=\"Open In Colab\"/></a>"
      ]
    },
    {
      "cell_type": "code",
      "execution_count": null,
      "metadata": {
        "colab": {
          "base_uri": "https://localhost:8080/"
        },
        "id": "LpAGef5W8wIt",
        "outputId": "014ca403-d127-4234-b0c2-a55c2c0efb41"
      },
      "outputs": [
        {
          "output_type": "execute_result",
          "data": {
            "text/plain": [
              "array([[1.17654715],\n",
              "       [4.63364321],\n",
              "       [2.05434669],\n",
              "       [0.06534039],\n",
              "       [1.80239835],\n",
              "       [2.53428768],\n",
              "       [1.5460229 ],\n",
              "       [3.79741492],\n",
              "       [4.70587561],\n",
              "       [3.10195071],\n",
              "       [0.10536155],\n",
              "       [1.2150449 ],\n",
              "       [1.08357555],\n",
              "       [3.25797673],\n",
              "       [3.46102915],\n",
              "       [2.91797152],\n",
              "       [1.81999598],\n",
              "       [0.47932417],\n",
              "       [1.11078882],\n",
              "       [1.18645746],\n",
              "       [1.23510217],\n",
              "       [2.15630675],\n",
              "       [3.93836327],\n",
              "       [0.48844058],\n",
              "       [3.99712839],\n",
              "       [0.52943475],\n",
              "       [1.83805487],\n",
              "       [0.96393897],\n",
              "       [1.42778929],\n",
              "       [3.19849831],\n",
              "       [1.17583638],\n",
              "       [2.37872972],\n",
              "       [2.7198455 ],\n",
              "       [2.84451644],\n",
              "       [4.49676188],\n",
              "       [0.23552204],\n",
              "       [2.22088526],\n",
              "       [4.67812451],\n",
              "       [1.14685857],\n",
              "       [4.76472934],\n",
              "       [0.57362712],\n",
              "       [4.98005712],\n",
              "       [1.34238963],\n",
              "       [2.30211494],\n",
              "       [2.58211599],\n",
              "       [1.47196423],\n",
              "       [1.11071193],\n",
              "       [1.33590938],\n",
              "       [1.18945779],\n",
              "       [4.82182097],\n",
              "       [3.44360562],\n",
              "       [4.22328568],\n",
              "       [4.20439244],\n",
              "       [0.6759548 ],\n",
              "       [1.83856465],\n",
              "       [1.37078436],\n",
              "       [4.62311259],\n",
              "       [3.19126941],\n",
              "       [3.43520234],\n",
              "       [1.97008593],\n",
              "       [1.25212117],\n",
              "       [3.7052432 ],\n",
              "       [1.54387755],\n",
              "       [0.41344943],\n",
              "       [0.26972125],\n",
              "       [2.30257215],\n",
              "       [0.62394141],\n",
              "       [4.40728325],\n",
              "       [4.05844638],\n",
              "       [0.90800631],\n",
              "       [3.84030214],\n",
              "       [2.31123809],\n",
              "       [4.20295079],\n",
              "       [3.50319228],\n",
              "       [2.80332835],\n",
              "       [4.30875545],\n",
              "       [2.90260588],\n",
              "       [4.6246132 ],\n",
              "       [1.37903798],\n",
              "       [2.34715271],\n",
              "       [4.35090397],\n",
              "       [1.97950382],\n",
              "       [3.54686042],\n",
              "       [2.96020458],\n",
              "       [4.81840045],\n",
              "       [3.93715492],\n",
              "       [3.09494352],\n",
              "       [2.44484028],\n",
              "       [1.4784475 ],\n",
              "       [3.67898345],\n",
              "       [4.80152842],\n",
              "       [1.90592452],\n",
              "       [2.47042217],\n",
              "       [2.54223624],\n",
              "       [4.32889066],\n",
              "       [1.61933951],\n",
              "       [0.51238219],\n",
              "       [2.24930101],\n",
              "       [3.6700576 ],\n",
              "       [1.47787068]])"
            ]
          },
          "metadata": {},
          "execution_count": 120
        }
      ],
      "source": [
        "\n",
        "from sklearn.linear_model import LinearRegression\n",
        "from sklearn.preprocessing import PolynomialFeatures\n",
        "from sklearn.model_selection import train_test_split\n",
        "import matplotlib.pyplot as plt\n",
        "import numpy as np\n",
        "import random\n",
        "\n",
        "X = np.random.random((100, 1)) * 5\n",
        "y = np.array([X[i][0] ** 2 - 4 * X[i][0] + 3 + (random.random() -0.5) * 2 for i in range(100)])   # y = x_1^2 - x_2 + 1\n",
        "X\n"
      ]
    },
    {
      "cell_type": "code",
      "source": [],
      "metadata": {
        "id": "df8rhC9Ac-8T"
      },
      "execution_count": null,
      "outputs": []
    },
    {
      "cell_type": "code",
      "source": [
        "fig1 = plt.scatter(X, y, edgecolor=\"k\")"
      ],
      "metadata": {
        "colab": {
          "base_uri": "https://localhost:8080/",
          "height": 265
        },
        "id": "JSW79rqM9vlQ",
        "outputId": "455095a5-0402-4e3a-dd3f-dd5d738b77df"
      },
      "execution_count": null,
      "outputs": [
        {
          "output_type": "display_data",
          "data": {
            "text/plain": [
              "<Figure size 432x288 with 1 Axes>"
            ],
            "image/png": "[encoded data removed]"
          },
          "metadata": {
            "needs_background": "light"
          }
        }
      ]
    },
    {
      "cell_type": "code",
      "source": [
        "X_tn, X_te, y_tn, y_te = train_test_split(X,y,random_state=0)\n",
        "\n",
        "lr = LinearRegression()\n",
        "lr.fit(X_tn, y_tn)"
      ],
      "metadata": {
        "colab": {
          "base_uri": "https://localhost:8080/",
          "height": 74
        },
        "id": "2PtOf6Ry_xkd",
        "outputId": "d341da6e-4adb-4e9b-8a71-73d1513268a7"
      },
      "execution_count": null,
      "outputs": [
        {
          "output_type": "execute_result",
          "data": {
            "text/plain": [
              "LinearRegression()"
            ],
            "text/html": [
              "<style>#sk-container-id-10 {color: black;background-color: white;}#sk-container-id-10 pre{padding: 0;}#sk-container-id-10 div.sk-toggleable {background-color: white;}#sk-container-id-10 label.sk-toggleable__label {cursor: pointer;display: block;width: 100%;margin-bottom: 0;padding: 0.3em;box-sizing: border-box;text-align: center;}#sk-container-id-10 label.sk-toggleable__label-arrow:before {content: \"▸\";float: left;margin-right: 0.25em;color: #696969;}#sk-container-id-10 label.sk-toggleable__label-arrow:hover:before {color: black;}#sk-container-id-10 div.sk-estimator:hover label.sk-toggleable__label-arrow:before {color: black;}#sk-container-id-10 div.sk-toggleable__content {max-height: 0;max-width: 0;overflow: hidden;text-align: left;background-color: #f0f8ff;}#sk-container-id-10 div.sk-toggleable__content pre {margin: 0.2em;color: black;border-radius: 0.25em;background-color: #f0f8ff;}#sk-container-id-10 input.sk-toggleable__control:checked~div.sk-toggleable__content {max-height: 200px;max-width: 100%;overflow: auto;}#sk-container-id-10 input.sk-toggleable__control:checked~label.sk-toggleable__label-arrow:before {content: \"▾\";}#sk-container-id-10 div.sk-estimator input.sk-toggleable__control:checked~label.sk-toggleable__label {background-color: #d4ebff;}#sk-container-id-10 div.sk-label input.sk-toggleable__control:checked~label.sk-toggleable__label {background-color: #d4ebff;}#sk-container-id-10 input.sk-hidden--visually {border: 0;clip: rect(1px 1px 1px 1px);clip: rect(1px, 1px, 1px, 1px);height: 1px;margin: -1px;overflow: hidden;padding: 0;position: absolute;width: 1px;}#sk-container-id-10 div.sk-estimator {font-family: monospace;background-color: #f0f8ff;border: 1px dotted black;border-radius: 0.25em;box-sizing: border-box;margin-bottom: 0.5em;}#sk-container-id-10 div.sk-estimator:hover {background-color: #d4ebff;}#sk-container-id-10 div.sk-parallel-item::after {content: \"\";width: 100%;border-bottom: 1px solid gray;flex-grow: 1;}#sk-container-id-10 div.sk-label:hover label.sk-toggleable__label {background-color: #d4ebff;}#sk-container-id-10 div.sk-serial::before {content: \"\";position: absolute;border-left: 1px solid gray;box-sizing: border-box;top: 0;bottom: 0;left: 50%;z-index: 0;}#sk-container-id-10 div.sk-serial {display: flex;flex-direction: column;align-items: center;background-color: white;padding-right: 0.2em;padding-left: 0.2em;position: relative;}#sk-container-id-10 div.sk-item {position: relative;z-index: 1;}#sk-container-id-10 div.sk-parallel {display: flex;align-items: stretch;justify-content: center;background-color: white;position: relative;}#sk-container-id-10 div.sk-item::before, #sk-container-id-10 div.sk-parallel-item::before {content: \"\";position: absolute;border-left: 1px solid gray;box-sizing: border-box;top: 0;bottom: 0;left: 50%;z-index: -1;}#sk-container-id-10 div.sk-parallel-item {display: flex;flex-direction: column;z-index: 1;position: relative;background-color: white;}#sk-container-id-10 div.sk-parallel-item:first-child::after {align-self: flex-end;width: 50%;}#sk-container-id-10 div.sk-parallel-item:last-child::after {align-self: flex-start;width: 50%;}#sk-container-id-10 div.sk-parallel-item:only-child::after {width: 0;}#sk-container-id-10 div.sk-dashed-wrapped {border: 1px dashed gray;margin: 0 0.4em 0.5em 0.4em;box-sizing: border-box;padding-bottom: 0.4em;background-color: white;}#sk-container-id-10 div.sk-label label {font-family: monospace;font-weight: bold;display: inline-block;line-height: 1.2em;}#sk-container-id-10 div.sk-label-container {text-align: center;}#sk-container-id-10 div.sk-container {/* jupyter's `normalize.less` sets `[hidden] { display: none; }` but bootstrap.min.css set `[hidden] { display: none !important; }` so we also need the `!important` here to be able to override the default hidden behavior on the sphinx rendered scikit-learn.org. See: https://github.com/scikit-learn/scikit-learn/issues/21755 */display: inline-block !important;position: relative;}#sk-container-id-10 div.sk-text-repr-fallback {display: none;}</style><div id=\"sk-container-id-10\" class=\"sk-top-container\"><div class=\"sk-text-repr-fallback\"><pre>LinearRegression()</pre><b>In a Jupyter environment, please rerun this cell to show the HTML representation or trust the notebook. <br />On GitHub, the HTML representation is unable to render, please try loading this page with nbviewer.org.</b></div><div class=\"sk-container\" hidden><div class=\"sk-item\"><div class=\"sk-estimator sk-toggleable\"><input class=\"sk-toggleable__control sk-hidden--visually\" id=\"sk-estimator-id-10\" type=\"checkbox\" checked><label for=\"sk-estimator-id-10\" class=\"sk-toggleable__label sk-toggleable__label-arrow\">LinearRegression</label><div class=\"sk-toggleable__content\"><pre>LinearRegression()</pre></div></div></div></div></div>"
            ]
          },
          "metadata": {},
          "execution_count": 122
        }
      ]
    },
    {
      "cell_type": "code",
      "source": [
        "y_pred = lr.predict(X_te)\n",
        "plt.scatter(X_te, y_te, color=\"black\")\n",
        "plt.plot(X_te, y_pred, color=\"blue\", linewidth=3)"
      ],
      "metadata": {
        "colab": {
          "base_uri": "https://localhost:8080/",
          "height": 284
        },
        "id": "8o36mPgSAFZq",
        "outputId": "eb871d9a-fdfc-4d64-9ea3-1cc279f1ceb9"
      },
      "execution_count": null,
      "outputs": [
        {
          "output_type": "execute_result",
          "data": {
            "text/plain": [
              "[<matplotlib.lines.Line2D at 0x7f592cacd490>]"
            ]
          },
          "metadata": {},
          "execution_count": 148
        },
        {
          "output_type": "display_data",
          "data": {
            "text/plain": [
              "<Figure size 432x288 with 1 Axes>"
            ],
            "image/png": "[encoded data removed]"
          },
          "metadata": {
            "needs_background": "light"
          }
        }
      ]
    },
    {
      "cell_type": "code",
      "source": [
        "print(lr.coef_)\n",
        "print(lr.intercept_)"
      ],
      "metadata": {
        "colab": {
          "base_uri": "https://localhost:8080/"
        },
        "id": "J94gCMFnAoU9",
        "outputId": "0daa3483-b677-4fe9-b48f-53bb3c568bbb"
      },
      "execution_count": null,
      "outputs": [
        {
          "output_type": "stream",
          "name": "stdout",
          "text": [
            "[1.16232223]\n",
            "-1.5248715423678596\n"
          ]
        }
      ]
    },
    {
      "cell_type": "code",
      "source": [
        "from sklearn.metrics import mean_squared_error\n",
        "print(mean_squared_error(y_te, y_pred))"
      ],
      "metadata": {
        "colab": {
          "base_uri": "https://localhost:8080/"
        },
        "id": "Dk43BAIw8w1W",
        "outputId": "5fd6fbf9-4e10-4127-d343-07362043bbfc"
      },
      "execution_count": null,
      "outputs": [
        {
          "output_type": "stream",
          "name": "stdout",
          "text": [
            "2.7110380492230446\n"
          ]
        }
      ]
    },
    {
      "cell_type": "code",
      "source": [
        "from sklearn.metrics import r2_score\n",
        "print(r2_score(y_te, y_pred))"
      ],
      "metadata": {
        "colab": {
          "base_uri": "https://localhost:8080/"
        },
        "id": "qy0nVK_b9S7V",
        "outputId": "14c706e2-aa8c-47eb-b287-cc2a63ac2d81"
      },
      "execution_count": null,
      "outputs": [
        {
          "output_type": "stream",
          "name": "stdout",
          "text": [
            "0.30644226138482755\n"
          ]
        }
      ]
    },
    {
      "cell_type": "code",
      "source": [
        "poly = PolynomialFeatures(degree=2, include_bias=False)\n",
        "X_poly = poly.fit_transform(X_tn)\n",
        "X_poly_te = poly.fit_transform(X_te)\n",
        "lr_poly = LinearRegression()\n",
        "lr_poly.fit(X_poly, y_tn)\n",
        "y_poly_pred = lr_poly.predict(X_poly_te)"
      ],
      "metadata": {
        "id": "Hj-wMjasM8MW"
      },
      "execution_count": null,
      "outputs": []
    },
    {
      "cell_type": "code",
      "source": [
        "plt.scatter(X_te, y_te, color=\"black\")\n",
        "a, b = lr_poly.coef_, lr_poly.intercept_\n",
        "x = np.linspace(0, 5, 500)\n",
        "y2 = a[1] * x ** 2 + a[0] * x + b\n",
        "plt.plot(x, y2, \"g-\")\n",
        "# plt.plot(X_te, y_poly_pred, \"g-\")\n",
        "plt.show()"
      ],
      "metadata": {
        "colab": {
          "base_uri": "https://localhost:8080/",
          "height": 265
        },
        "id": "kjLKH-l_OlfK",
        "outputId": "0edc411c-bffe-46bd-f8e6-d1db20e1d22a"
      },
      "execution_count": null,
      "outputs": [
        {
          "output_type": "display_data",
          "data": {
            "text/plain": [
              "<Figure size 432x288 with 1 Axes>"
            ],
            "image/png": "[encoded data removed]"
          },
          "metadata": {
            "needs_background": "light"
          }
        }
      ]
    },
    {
      "cell_type": "code",
      "source": [
        "print(lr_poly.coef_)\n",
        "print(lr_poly.intercept_)"
      ],
      "metadata": {
        "colab": {
          "base_uri": "https://localhost:8080/"
        },
        "id": "KwS0kD72RCTn",
        "outputId": "52b58dc6-d7da-45f6-d330-cdf7ddac433d"
      },
      "execution_count": null,
      "outputs": [
        {
          "output_type": "stream",
          "name": "stdout",
          "text": [
            "[-3.85616873  0.96609644]\n",
            "2.929514497162688\n"
          ]
        }
      ]
    },
    {
      "cell_type": "code",
      "source": [
        "print(mean_squared_error(y_te,y_poly_pred))\n",
        "print(r2_score(y_te, y_poly_pred))"
      ],
      "metadata": {
        "colab": {
          "base_uri": "https://localhost:8080/"
        },
        "id": "1zakVS34_aS2",
        "outputId": "86482b59-b832-4724-aa58-8f3a117b165b"
      },
      "execution_count": null,
      "outputs": [
        {
          "output_type": "stream",
          "name": "stdout",
          "text": [
            "0.2311150805143258\n",
            "0.9408744363999918\n"
          ]
        }
      ]
    },
    {
      "cell_type": "code",
      "source": [
        "poly = PolynomialFeatures(degree=6, include_bias=False)\n",
        "X_poly = poly.fit_transform(X_tn)\n",
        "X_poly_te = poly.fit_transform(X_te)\n",
        "lr_poly = LinearRegression()\n",
        "lr_poly.fit(X_poly, y_tn)\n",
        "y_poly_pred = lr_poly.predict(X_poly_te)\n",
        "plt.scatter(X_te, y_te, color=\"black\")\n",
        "a, b = lr_poly.coef_, lr_poly.intercept_\n",
        "x = np.linspace(0, 5, 500)\n",
        "#y2 = a[1] * x ** 2 + a[0] * x + b\n",
        "y2 = a[5] * x ** 6 + a[4] * x ** 5 + a[3] * x ** 4 + a[2] * x ** 3 + a[1] * x ** 2 + a[0] * x + b\n",
        "plt.plot(x, y2, \"g-\")\n",
        "# plt.plot(X_te, y_poly_pred, \"g-\")\n",
        "plt.show()"
      ],
      "metadata": {
        "colab": {
          "base_uri": "https://localhost:8080/",
          "height": 267
        },
        "id": "KGl517eOb9Vk",
        "outputId": "5bc93738-cf47-4d76-921b-ff91063dd32b"
      },
      "execution_count": null,
      "outputs": [
        {
          "output_type": "display_data",
          "data": {
            "text/plain": [
              "<Figure size 432x288 with 1 Axes>"
            ],
            "image/png": "[encoded data removed]"
          },
          "metadata": {
            "needs_background": "light"
          }
        }
      ]
    },
    {
      "cell_type": "code",
      "source": [
        "print(lr_poly.coef_)\n",
        "print(lr_poly.intercept_)\n"
      ],
      "metadata": {
        "colab": {
          "base_uri": "https://localhost:8080/"
        },
        "id": "HpTbQjtedADz",
        "outputId": "f3fc1355-23a4-42df-e9dd-bd3ed19fe055"
      },
      "execution_count": null,
      "outputs": [
        {
          "output_type": "stream",
          "name": "stdout",
          "text": [
            "[ 2.56794763 -8.49550929  6.14219572 -1.9767045   0.30961228 -0.01883691]\n",
            "1.6257391129445518\n"
          ]
        }
      ]
    },
    {
      "cell_type": "code",
      "source": [
        "print(mean_squared_error(y_te,y_poly_pred))\n",
        "print(r2_score(y_te, y_poly_pred))"
      ],
      "metadata": {
        "colab": {
          "base_uri": "https://localhost:8080/"
        },
        "id": "jOjA665yAtYr",
        "outputId": "0d0687da-7c1e-4bf0-f739-b88c12cd1bba"
      },
      "execution_count": null,
      "outputs": [
        {
          "output_type": "stream",
          "name": "stdout",
          "text": [
            "0.2451313952163159\n",
            "0.9372886794493592\n"
          ]
        }
      ]
    }
  ]
}